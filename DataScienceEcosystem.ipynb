{
  "metadata": {
    "kernelspec": {
      "name": "python",
      "display_name": "Python (Pyodide)",
      "language": "python"
    },
    "language_info": {
      "codemirror_mode": {
        "name": "python",
        "version": 3
      },
      "file_extension": ".py",
      "mimetype": "text/x-python",
      "name": "python",
      "nbconvert_exporter": "python",
      "pygments_lexer": "ipython3",
      "version": "3.8"
    }
  },
  "nbformat_minor": 4,
  "nbformat": 4,
  "cells": [
    {
      "cell_type": "markdown",
      "source": "<center>\n    <img src=\"https://cf-courses-data.s3.us.cloud-object-storage.appdomain.cloud/IBMDeveloperSkillsNetwork-DS0105EN-SkillsNetwork/labs/Module2/images/SN_web_lightmode.png\" width=\"300\" alt=\"cognitiveclass.ai logo\">\n</center>\n",
      "metadata": {}
    },
    {
      "cell_type": "markdown",
      "source": "#### Add your code below following the instructions given in the course\n",
      "metadata": {}
    },
    {
      "cell_type": "markdown",
      "source": "# Data Science Tools and Ecosystem",
      "metadata": {}
    },
    {
      "cell_type": "markdown",
      "source": "## Introduction\nIn this notebook, Data Science Tools and Ecosystem are summarized.",
      "metadata": {}
    },
    {
      "cell_type": "markdown",
      "source": "## Some of the popular languages that Data Scientists use are:\n1. Python\n2. R\n3. Julia",
      "metadata": {}
    },
    {
      "cell_type": "markdown",
      "source": "## Some of the commonly used libraries used by Data Scientists include:\n- NumPy\n- Pandas\n- Matplotlib\n- Scikit-learn",
      "metadata": {}
    },
    {
      "cell_type": "markdown",
      "source": "## Data Science Tools\n\n| Category            | Tool                   |\n|---------------------|------------------------|\n| Language            | Python                 |\n| Data Manipulation   | Pandas                 |\n| Visualization       | Matplotlib   |\n| Machine Learning    | Scikit-learn           |\n| Statistics          | SciPy    |",
      "metadata": {}
    },
    {
      "cell_type": "markdown",
      "source": "### Examples of Arithmetic Expressions\n- Addition: \\(2 + 3\\)\n- Subtraction: \\(5 - 2\\)\n- Multiplication: \\(4 \\* 6\\)\n- Division: \\(8 / 2\\)",
      "metadata": {}
    },
    {
      "cell_type": "code",
      "source": "# This is a simple aritmetic expression to multiply then add integers\n(3*4)+5",
      "metadata": {
        "trusted": true
      },
      "outputs": [
        {
          "name": "stdout",
          "text": "Result of multiplication: 20\nResult of addition: 9\n",
          "output_type": "stream"
        }
      ],
      "execution_count": 3
    },
    {
      "cell_type": "code",
      "source": "#This will convert 200 minutes to hours by diving by 60\nminutes = 120\n\n# Conversion to hours\nhours = minutes / 60\n\nprint(f\"{minutes} minutes are equivalent to {hours} hours.\")",
      "metadata": {
        "trusted": true
      },
      "outputs": [
        {
          "name": "stdout",
          "text": "120 minutes are equivalent to 2.0 hours.\n",
          "output_type": "stream"
        }
      ],
      "execution_count": 2
    },
    {
      "cell_type": "code",
      "source": "#List of objectives\nobjectives = [\"Explore data science concepts\", \"Use tools\", \"Use libraries\", \"Practice arithmetic expressions\"]\n\nprint(\"Objectives:\")\nfor objective in objectives:\n    print(f\"- {objective}\")",
      "metadata": {
        "trusted": true
      },
      "outputs": [
        {
          "name": "stdout",
          "text": "Objectives:\n- Explore data science concepts\n- Use tools\n- Use libraries\n- Practice arithmetic expressions\n",
          "output_type": "stream"
        }
      ],
      "execution_count": 3
    },
    {
      "cell_type": "markdown",
      "source": "## Author\nAna María Huergo Pérez",
      "metadata": {}
    },
    {
      "cell_type": "code",
      "source": "",
      "metadata": {
        "trusted": true
      },
      "outputs": [],
      "execution_count": null
    }
  ]
}